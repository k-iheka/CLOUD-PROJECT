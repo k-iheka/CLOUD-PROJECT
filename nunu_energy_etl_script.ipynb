{
 "cells": [
  {
   "cell_type": "code",
   "execution_count": null,
   "metadata": {
    "application/vnd.databricks.v1+cell": {
     "cellMetadata": {
      "byteLimit": 2048000,
      "rowLimit": 10000
     },
     "inputWidgets": {},
     "nuid": "292d1757-d441-4345-b6c3-f8895d83e94f",
     "showTitle": false,
     "title": ""
    }
   },
   "outputs": [
    {
     "name": "stdout",
     "output_type": "stream",
     "text": [
      "\u001b[43mNote: you may need to restart the kernel using %restart_python or dbutils.library.restartPython() to use updated packages.\u001b[0m\n",
      "Requirement already satisfied: azure-storage-blob in /databricks/python3/lib/python3.11/site-packages (12.19.1)\n",
      "Requirement already satisfied: azure-core<2.0.0,>=1.28.0 in /databricks/python3/lib/python3.11/site-packages (from azure-storage-blob) (1.30.1)\n",
      "Requirement already satisfied: cryptography>=2.1.4 in /databricks/python3/lib/python3.11/site-packages (from azure-storage-blob) (41.0.3)\n",
      "Requirement already satisfied: typing-extensions>=4.3.0 in /databricks/python3/lib/python3.11/site-packages (from azure-storage-blob) (4.10.0)\n",
      "Requirement already satisfied: isodate>=0.6.1 in /databricks/python3/lib/python3.11/site-packages (from azure-storage-blob) (0.6.1)\n",
      "Requirement already satisfied: requests>=2.21.0 in /databricks/python3/lib/python3.11/site-packages (from azure-core<2.0.0,>=1.28.0->azure-storage-blob) (2.31.0)\n",
      "Requirement already satisfied: six>=1.11.0 in /usr/lib/python3/dist-packages (from azure-core<2.0.0,>=1.28.0->azure-storage-blob) (1.16.0)\n",
      "Requirement already satisfied: cffi>=1.12 in /databricks/python3/lib/python3.11/site-packages (from cryptography>=2.1.4->azure-storage-blob) (1.15.1)\n",
      "Requirement already satisfied: pycparser in /databricks/python3/lib/python3.11/site-packages (from cffi>=1.12->cryptography>=2.1.4->azure-storage-blob) (2.21)\n",
      "Requirement already satisfied: charset-normalizer<4,>=2 in /databricks/python3/lib/python3.11/site-packages (from requests>=2.21.0->azure-core<2.0.0,>=1.28.0->azure-storage-blob) (2.0.4)\n",
      "Requirement already satisfied: idna<4,>=2.5 in /databricks/python3/lib/python3.11/site-packages (from requests>=2.21.0->azure-core<2.0.0,>=1.28.0->azure-storage-blob) (3.4)\n",
      "Requirement already satisfied: urllib3<3,>=1.21.1 in /databricks/python3/lib/python3.11/site-packages (from requests>=2.21.0->azure-core<2.0.0,>=1.28.0->azure-storage-blob) (1.26.16)\n",
      "Requirement already satisfied: certifi>=2017.4.17 in /databricks/python3/lib/python3.11/site-packages (from requests>=2.21.0->azure-core<2.0.0,>=1.28.0->azure-storage-blob) (2023.7.22)\n",
      "\u001b[43mNote: you may need to restart the kernel using %restart_python or dbutils.library.restartPython() to use updated packages.\u001b[0m\n",
      "\u001b[43mNote: you may need to restart the kernel using %restart_python or dbutils.library.restartPython() to use updated packages.\u001b[0m\n",
      "Requirement already satisfied: pandas in /databricks/python3/lib/python3.11/site-packages (1.5.3)\n",
      "Requirement already satisfied: pyarrow in /databricks/python3/lib/python3.11/site-packages (14.0.1)\n",
      "Requirement already satisfied: python-dateutil>=2.8.1 in /databricks/python3/lib/python3.11/site-packages (from pandas) (2.8.2)\n",
      "Requirement already satisfied: pytz>=2020.1 in /databricks/python3/lib/python3.11/site-packages (from pandas) (2022.7)\n",
      "Requirement already satisfied: numpy>=1.21.0 in /databricks/python3/lib/python3.11/site-packages (from pandas) (1.23.5)\n",
      "Requirement already satisfied: six>=1.5 in /usr/lib/python3/dist-packages (from python-dateutil>=2.8.1->pandas) (1.16.0)\n",
      "\u001b[43mNote: you may need to restart the kernel using %restart_python or dbutils.library.restartPython() to use updated packages.\u001b[0m\n",
      "\u001b[43mNote: you may need to restart the kernel using %restart_python or dbutils.library.restartPython() to use updated packages.\u001b[0m\n",
      "Collecting newsapi-python\n",
      "  Obtaining dependency information for newsapi-python from https://files.pythonhosted.org/packages/74/47/e3b099102f0c826d37841d2266e19f1568dcf58ba86e4c6948e2a124f91d/newsapi_python-0.2.7-py2.py3-none-any.whl.metadata\n",
      "  Downloading newsapi_python-0.2.7-py2.py3-none-any.whl.metadata (1.2 kB)\n",
      "Requirement already satisfied: requests<3.0.0 in /databricks/python3/lib/python3.11/site-packages (from newsapi-python) (2.31.0)\n",
      "Requirement already satisfied: charset-normalizer<4,>=2 in /databricks/python3/lib/python3.11/site-packages (from requests<3.0.0->newsapi-python) (2.0.4)\n",
      "Requirement already satisfied: idna<4,>=2.5 in /databricks/python3/lib/python3.11/site-packages (from requests<3.0.0->newsapi-python) (3.4)\n",
      "Requirement already satisfied: urllib3<3,>=1.21.1 in /databricks/python3/lib/python3.11/site-packages (from requests<3.0.0->newsapi-python) (1.26.16)\n",
      "Requirement already satisfied: certifi>=2017.4.17 in /databricks/python3/lib/python3.11/site-packages (from requests<3.0.0->newsapi-python) (2023.7.22)\n",
      "Downloading newsapi_python-0.2.7-py2.py3-none-any.whl (7.9 kB)\n",
      "Installing collected packages: newsapi-python\n",
      "Successfully installed newsapi-python-0.2.7\n",
      "\u001b[43mNote: you may need to restart the kernel using %restart_python or dbutils.library.restartPython() to use updated packages.\u001b[0m\n"
     ]
    }
   ],
   "source": [
    "%pip install azure-storage-blob\n",
    "%pip install pandas pyarrow\n",
    "%pip install newsapi-python"
   ]
  },
  {
   "cell_type": "code",
   "execution_count": null,
   "metadata": {
    "application/vnd.databricks.v1+cell": {
     "cellMetadata": {
      "byteLimit": 2048000,
      "rowLimit": 10000
     },
     "inputWidgets": {},
     "nuid": "c370bed7-1b42-42a1-a033-9742f116ea47",
     "showTitle": false,
     "title": ""
    }
   },
   "outputs": [],
   "source": [
    "dbutils.library.restartPython()"
   ]
  },
  {
   "cell_type": "markdown",
   "metadata": {
    "application/vnd.databricks.v1+cell": {
     "cellMetadata": {
      "byteLimit": 2048000,
      "rowLimit": 10000
     },
     "inputWidgets": {},
     "nuid": "c2469863-37d4-476d-956f-d5e3519ec074",
     "showTitle": false,
     "title": ""
    }
   },
   "source": [
    "### Import necessary Dependencies"
   ]
  },
  {
   "cell_type": "code",
   "execution_count": 1,
   "metadata": {
    "application/vnd.databricks.v1+cell": {
     "cellMetadata": {
      "byteLimit": 2048000,
      "rowLimit": 10000
     },
     "inputWidgets": {},
     "nuid": "f780a3bc-0e0e-4282-8aae-b44081422025",
     "showTitle": false,
     "title": ""
    }
   },
   "outputs": [],
   "source": [
    "import pandas as pd\n",
    "import os\n",
    "import io\n",
    "from azure.storage.blob import BlobServiceClient, BlobClient\n",
    "from newsapi import NewsApiClient\n",
    "from pandas import json_normalize\n",
    "import json\n",
    "import csv"
   ]
  },
  {
   "cell_type": "markdown",
   "metadata": {
    "application/vnd.databricks.v1+cell": {
     "cellMetadata": {
      "byteLimit": 2048000,
      "rowLimit": 10000
     },
     "inputWidgets": {},
     "nuid": "7bbbe087-a48c-44e7-af78-7bf34a4ee689",
     "showTitle": false,
     "title": ""
    }
   },
   "source": [
    "### Extraction Layer"
   ]
  },
  {
   "cell_type": "code",
   "execution_count": 2,
   "metadata": {
    "application/vnd.databricks.v1+cell": {
     "cellMetadata": {
      "byteLimit": 2048000,
      "rowLimit": 10000
     },
     "inputWidgets": {},
     "nuid": "ad5d7b21-d391-4517-9cc3-0599119bbf30",
     "showTitle": false,
     "title": ""
    }
   },
   "outputs": [],
   "source": [
    "# Init\n",
    "api = NewsApiClient(api_key='0db6fa273f154cbc9409997bd556a55b')\n",
    "keywords_list = ['commodities', 'agriculture', 'metals', 'energy']\n",
    "\n",
    "all_articles_list = []\n",
    "\n",
    "for keyword in keywords_list:\n",
    "    articles =api.get_everything(q=keyword)\n",
    "    all_articles_list.extend(articles['articles'])\n",
    "\n",
    "with open('articles.json', 'w') as file:\n",
    "    json.dump(all_articles_list, file, indent=4)\n"
   ]
  },
  {
   "cell_type": "code",
   "execution_count": 3,
   "metadata": {
    "application/vnd.databricks.v1+cell": {
     "cellMetadata": {
      "byteLimit": 2048000,
      "rowLimit": 10000
     },
     "inputWidgets": {},
     "nuid": "f6903071-55cf-4a38-b3b7-f0839d118a8e",
     "showTitle": false,
     "title": ""
    }
   },
   "outputs": [],
   "source": [
    "nunu_df = pd.read_json('/Workspace/Users/ihekakelechi@outlook.com/articles.json')"
   ]
  },
  {
   "cell_type": "code",
   "execution_count": 4,
   "metadata": {
    "application/vnd.databricks.v1+cell": {
     "cellMetadata": {
      "byteLimit": 2048000,
      "rowLimit": 10000
     },
     "inputWidgets": {},
     "nuid": "a2ade6ec-8058-4399-8b62-3080ed7067ef",
     "showTitle": false,
     "title": ""
    }
   },
   "outputs": [
    {
     "data": {
      "text/plain": [
       "Index(['source', 'author', 'title', 'description', 'url', 'urlToImage',\n",
       "       'publishedAt', 'content'],\n",
       "      dtype='object')"
      ]
     },
     "execution_count": 4,
     "metadata": {},
     "output_type": "execute_result"
    }
   ],
   "source": [
    "nunu_df.columns"
   ]
  },
  {
   "cell_type": "code",
   "execution_count": 5,
   "metadata": {
    "application/vnd.databricks.v1+cell": {
     "cellMetadata": {
      "byteLimit": 2048000,
      "rowLimit": 10000
     },
     "inputWidgets": {},
     "nuid": "c4f45688-d994-4596-8f79-7f4151d0ebb6",
     "showTitle": false,
     "title": ""
    }
   },
   "outputs": [
    {
     "data": {
      "text/html": [
       "<div>\n",
       "<style scoped>\n",
       "    .dataframe tbody tr th:only-of-type {\n",
       "        vertical-align: middle;\n",
       "    }\n",
       "\n",
       "    .dataframe tbody tr th {\n",
       "        vertical-align: top;\n",
       "    }\n",
       "\n",
       "    .dataframe thead th {\n",
       "        text-align: right;\n",
       "    }\n",
       "</style>\n",
       "<table border=\"1\" class=\"dataframe\">\n",
       "  <thead>\n",
       "    <tr style=\"text-align: right;\">\n",
       "      <th></th>\n",
       "      <th>source</th>\n",
       "      <th>author</th>\n",
       "      <th>title</th>\n",
       "      <th>description</th>\n",
       "      <th>url</th>\n",
       "      <th>urlToImage</th>\n",
       "      <th>publishedAt</th>\n",
       "      <th>content</th>\n",
       "    </tr>\n",
       "  </thead>\n",
       "  <tbody>\n",
       "    <tr>\n",
       "      <th>0</th>\n",
       "      <td>{'id': None, 'name': 'Yahoo Entertainment'}</td>\n",
       "      <td>Archie Hunter</td>\n",
       "      <td>After Rough Patch, Trader Engelhart Bets Big o...</td>\n",
       "      <td>(Bloomberg) -- The last time Engelhart Commodi...</td>\n",
       "      <td>https://finance.yahoo.com/news/rough-patch-tra...</td>\n",
       "      <td>https://s.yimg.com/ny/api/res/1.2/logpAHtvT.V5...</td>\n",
       "      <td>2024-07-04T11:57:36Z</td>\n",
       "      <td>(Bloomberg) -- The last time Engelhart Commodi...</td>\n",
       "    </tr>\n",
       "    <tr>\n",
       "      <th>1</th>\n",
       "      <td>{'id': 'business-insider', 'name': 'Business I...</td>\n",
       "      <td>mfox@businessinsider.com (Matthew Fox)</td>\n",
       "      <td>Stock market today: Dow closes at a record as ...</td>\n",
       "      <td>Investors betting on a second Trump presidency...</td>\n",
       "      <td>https://markets.businessinsider.com/news/stock...</td>\n",
       "      <td>https://i.insider.com/669580569caa6ed01e01c687...</td>\n",
       "      <td>2024-07-15T20:09:18Z</td>\n",
       "      <td>US stocks hit new all-time highs on Monday, wi...</td>\n",
       "    </tr>\n",
       "    <tr>\n",
       "      <th>2</th>\n",
       "      <td>{'id': 'business-insider', 'name': 'Business I...</td>\n",
       "      <td>mfox@businessinsider.com (Matthew Fox)</td>\n",
       "      <td>Stock market today: Indexes test record highs ...</td>\n",
       "      <td>The June jobs \"should have Fed officials troub...</td>\n",
       "      <td>https://markets.businessinsider.com/news/stock...</td>\n",
       "      <td>https://i.insider.com/6687f1d71f0c1cd6d731bbbf...</td>\n",
       "      <td>2024-07-05T13:39:38Z</td>\n",
       "      <td>US stocks tested record highs on Friday after ...</td>\n",
       "    </tr>\n",
       "  </tbody>\n",
       "</table>\n",
       "</div>"
      ],
      "text/plain": [
       "                                              source  \\\n",
       "0        {'id': None, 'name': 'Yahoo Entertainment'}   \n",
       "1  {'id': 'business-insider', 'name': 'Business I...   \n",
       "2  {'id': 'business-insider', 'name': 'Business I...   \n",
       "\n",
       "                                   author  \\\n",
       "0                           Archie Hunter   \n",
       "1  mfox@businessinsider.com (Matthew Fox)   \n",
       "2  mfox@businessinsider.com (Matthew Fox)   \n",
       "\n",
       "                                               title  \\\n",
       "0  After Rough Patch, Trader Engelhart Bets Big o...   \n",
       "1  Stock market today: Dow closes at a record as ...   \n",
       "2  Stock market today: Indexes test record highs ...   \n",
       "\n",
       "                                         description  \\\n",
       "0  (Bloomberg) -- The last time Engelhart Commodi...   \n",
       "1  Investors betting on a second Trump presidency...   \n",
       "2  The June jobs \"should have Fed officials troub...   \n",
       "\n",
       "                                                 url  \\\n",
       "0  https://finance.yahoo.com/news/rough-patch-tra...   \n",
       "1  https://markets.businessinsider.com/news/stock...   \n",
       "2  https://markets.businessinsider.com/news/stock...   \n",
       "\n",
       "                                          urlToImage           publishedAt  \\\n",
       "0  https://s.yimg.com/ny/api/res/1.2/logpAHtvT.V5...  2024-07-04T11:57:36Z   \n",
       "1  https://i.insider.com/669580569caa6ed01e01c687...  2024-07-15T20:09:18Z   \n",
       "2  https://i.insider.com/6687f1d71f0c1cd6d731bbbf...  2024-07-05T13:39:38Z   \n",
       "\n",
       "                                             content  \n",
       "0  (Bloomberg) -- The last time Engelhart Commodi...  \n",
       "1  US stocks hit new all-time highs on Monday, wi...  \n",
       "2  US stocks tested record highs on Friday after ...  "
      ]
     },
     "execution_count": 5,
     "metadata": {},
     "output_type": "execute_result"
    }
   ],
   "source": [
    "nunu_df.head(3)"
   ]
  },
  {
   "cell_type": "code",
   "execution_count": 6,
   "metadata": {
    "application/vnd.databricks.v1+cell": {
     "cellMetadata": {
      "byteLimit": 2048000,
      "rowLimit": 10000
     },
     "inputWidgets": {},
     "nuid": "8247a3ab-d672-443b-a5db-d94840912f6b",
     "showTitle": false,
     "title": ""
    }
   },
   "outputs": [],
   "source": [
    "source = json_normalize(nunu_df['source'])"
   ]
  },
  {
   "cell_type": "code",
   "execution_count": null,
   "metadata": {
    "application/vnd.databricks.v1+cell": {
     "cellMetadata": {
      "byteLimit": 2048000,
      "rowLimit": 10000
     },
     "inputWidgets": {},
     "nuid": "d84f15f7-4eb0-4eec-b06b-ff5385986b4a",
     "showTitle": false,
     "title": ""
    }
   },
   "outputs": [
    {
     "data": {
      "text/html": [
       "<div>\n",
       "<style scoped>\n",
       "    .dataframe tbody tr th:only-of-type {\n",
       "        vertical-align: middle;\n",
       "    }\n",
       "\n",
       "    .dataframe tbody tr th {\n",
       "        vertical-align: top;\n",
       "    }\n",
       "\n",
       "    .dataframe thead th {\n",
       "        text-align: right;\n",
       "    }\n",
       "</style>\n",
       "<table border=\"1\" class=\"dataframe\">\n",
       "  <thead>\n",
       "    <tr style=\"text-align: right;\">\n",
       "      <th></th>\n",
       "      <th>id</th>\n",
       "      <th>name</th>\n",
       "    </tr>\n",
       "  </thead>\n",
       "  <tbody>\n",
       "    <tr>\n",
       "      <th>0</th>\n",
       "      <td>None</td>\n",
       "      <td>Yahoo Entertainment</td>\n",
       "    </tr>\n",
       "    <tr>\n",
       "      <th>1</th>\n",
       "      <td>wired</td>\n",
       "      <td>Wired</td>\n",
       "    </tr>\n",
       "    <tr>\n",
       "      <th>2</th>\n",
       "      <td>None</td>\n",
       "      <td>Yahoo Entertainment</td>\n",
       "    </tr>\n",
       "    <tr>\n",
       "      <th>3</th>\n",
       "      <td>business-insider</td>\n",
       "      <td>Business Insider</td>\n",
       "    </tr>\n",
       "    <tr>\n",
       "      <th>4</th>\n",
       "      <td>business-insider</td>\n",
       "      <td>Business Insider</td>\n",
       "    </tr>\n",
       "  </tbody>\n",
       "</table>\n",
       "</div>"
      ],
      "text/plain": [
       "                 id                 name\n",
       "0              None  Yahoo Entertainment\n",
       "1             wired                Wired\n",
       "2              None  Yahoo Entertainment\n",
       "3  business-insider     Business Insider\n",
       "4  business-insider     Business Insider"
      ]
     },
     "execution_count": 7,
     "metadata": {},
     "output_type": "execute_result"
    }
   ],
   "source": [
    "source.head(5)"
   ]
  },
  {
   "cell_type": "code",
   "execution_count": 7,
   "metadata": {
    "application/vnd.databricks.v1+cell": {
     "cellMetadata": {
      "byteLimit": 2048000,
      "rowLimit": 10000
     },
     "inputWidgets": {},
     "nuid": "633ec2be-3390-4731-afac-4df2cc3150b1",
     "showTitle": false,
     "title": ""
    }
   },
   "outputs": [],
   "source": [
    "nunu_df = nunu_df.drop(['source'], axis=1).join(source)"
   ]
  },
  {
   "cell_type": "code",
   "execution_count": null,
   "metadata": {
    "application/vnd.databricks.v1+cell": {
     "cellMetadata": {
      "byteLimit": 2048000,
      "rowLimit": 10000
     },
     "inputWidgets": {},
     "nuid": "c19e13b9-f3a1-436c-b4bc-0bcfa585586b",
     "showTitle": false,
     "title": ""
    }
   },
   "outputs": [
    {
     "data": {
      "text/html": [
       "<div>\n",
       "<style scoped>\n",
       "    .dataframe tbody tr th:only-of-type {\n",
       "        vertical-align: middle;\n",
       "    }\n",
       "\n",
       "    .dataframe tbody tr th {\n",
       "        vertical-align: top;\n",
       "    }\n",
       "\n",
       "    .dataframe thead th {\n",
       "        text-align: right;\n",
       "    }\n",
       "</style>\n",
       "<table border=\"1\" class=\"dataframe\">\n",
       "  <thead>\n",
       "    <tr style=\"text-align: right;\">\n",
       "      <th></th>\n",
       "      <th>author</th>\n",
       "      <th>title</th>\n",
       "      <th>description</th>\n",
       "      <th>url</th>\n",
       "      <th>urlToImage</th>\n",
       "      <th>publishedAt</th>\n",
       "      <th>content</th>\n",
       "      <th>id</th>\n",
       "      <th>name</th>\n",
       "    </tr>\n",
       "  </thead>\n",
       "  <tbody>\n",
       "    <tr>\n",
       "      <th>0</th>\n",
       "      <td>Archie Hunter</td>\n",
       "      <td>After Rough Patch, Trader Engelhart Bets Big o...</td>\n",
       "      <td>(Bloomberg) -- The last time Engelhart Commodi...</td>\n",
       "      <td>https://finance.yahoo.com/news/rough-patch-tra...</td>\n",
       "      <td>https://s.yimg.com/ny/api/res/1.2/logpAHtvT.V5...</td>\n",
       "      <td>2024-07-04T11:57:36Z</td>\n",
       "      <td>(Bloomberg) -- The last time Engelhart Commodi...</td>\n",
       "      <td>None</td>\n",
       "      <td>Yahoo Entertainment</td>\n",
       "    </tr>\n",
       "    <tr>\n",
       "      <th>1</th>\n",
       "      <td>Nitish Pahwa</td>\n",
       "      <td>Everything’s About to Get a Hell of a Lot More...</td>\n",
       "      <td>Intensifying hurricanes, floods, and heat wave...</td>\n",
       "      <td>https://www.wired.com/story/everythings-about-...</td>\n",
       "      <td>https://media.wired.com/photos/6672c1cb766de1f...</td>\n",
       "      <td>2024-06-22T11:00:00Z</td>\n",
       "      <td>Agricultural yields for important commodities ...</td>\n",
       "      <td>wired</td>\n",
       "      <td>Wired</td>\n",
       "    </tr>\n",
       "    <tr>\n",
       "      <th>2</th>\n",
       "      <td>Reuters</td>\n",
       "      <td>Minimum price mechanism for Ukrainian food exp...</td>\n",
       "      <td>New rules to prevent Ukranian agricultural exp...</td>\n",
       "      <td>https://www.yahoo.com/news/minimum-price-mecha...</td>\n",
       "      <td>https://media.zenfs.com/en/reuters.com/2b6a7d2...</td>\n",
       "      <td>2024-06-20T07:39:52Z</td>\n",
       "      <td>KYIV (Reuters) - New rules to prevent Ukranian...</td>\n",
       "      <td>None</td>\n",
       "      <td>Yahoo Entertainment</td>\n",
       "    </tr>\n",
       "  </tbody>\n",
       "</table>\n",
       "</div>"
      ],
      "text/plain": [
       "          author  ...                 name\n",
       "0  Archie Hunter  ...  Yahoo Entertainment\n",
       "1   Nitish Pahwa  ...                Wired\n",
       "2        Reuters  ...  Yahoo Entertainment\n",
       "\n",
       "[3 rows x 9 columns]"
      ]
     },
     "execution_count": 9,
     "metadata": {},
     "output_type": "execute_result"
    }
   ],
   "source": [
    "nunu_df.head(3)"
   ]
  },
  {
   "cell_type": "code",
   "execution_count": null,
   "metadata": {
    "application/vnd.databricks.v1+cell": {
     "cellMetadata": {
      "byteLimit": 2048000,
      "rowLimit": 10000
     },
     "inputWidgets": {},
     "nuid": "7f3adaa5-f0a6-4d24-8a35-7849eae5ea6e",
     "showTitle": false,
     "title": ""
    }
   },
   "outputs": [
    {
     "name": "stdout",
     "output_type": "stream",
     "text": [
      "<class 'pandas.core.frame.DataFrame'>\n",
      "RangeIndex: 400 entries, 0 to 399\n",
      "Data columns (total 9 columns):\n",
      " #   Column       Non-Null Count  Dtype \n",
      "---  ------       --------------  ----- \n",
      " 0   author       344 non-null    object\n",
      " 1   title        400 non-null    object\n",
      " 2   description  384 non-null    object\n",
      " 3   url          400 non-null    object\n",
      " 4   urlToImage   377 non-null    object\n",
      " 5   publishedAt  400 non-null    object\n",
      " 6   content      400 non-null    object\n",
      " 7   id           85 non-null     object\n",
      " 8   name         400 non-null    object\n",
      "dtypes: object(9)\n",
      "memory usage: 28.2+ KB\n"
     ]
    }
   ],
   "source": [
    "nunu_df.info()"
   ]
  },
  {
   "cell_type": "code",
   "execution_count": 8,
   "metadata": {
    "application/vnd.databricks.v1+cell": {
     "cellMetadata": {
      "byteLimit": 2048000,
      "rowLimit": 10000
     },
     "inputWidgets": {},
     "nuid": "776d3f0a-e34d-42e1-95c1-05442e53c938",
     "showTitle": false,
     "title": ""
    }
   },
   "outputs": [],
   "source": [
    "nunu_df= nunu_df[['id', 'name','author', 'title', 'description', 'url', 'urlToImage', 'publishedAt', \\\n",
    "                   'content']]"
   ]
  },
  {
   "cell_type": "code",
   "execution_count": 9,
   "metadata": {
    "application/vnd.databricks.v1+cell": {
     "cellMetadata": {
      "byteLimit": 2048000,
      "rowLimit": 10000
     },
     "inputWidgets": {},
     "nuid": "8b26c552-8a8f-41e3-85c0-fcaebaab4205",
     "showTitle": false,
     "title": ""
    }
   },
   "outputs": [
    {
     "data": {
      "text/plain": [
       "Index(['id', 'name', 'author', 'title', 'description', 'url', 'urlToImage',\n",
       "       'publishedAt', 'content'],\n",
       "      dtype='object')"
      ]
     },
     "execution_count": 9,
     "metadata": {},
     "output_type": "execute_result"
    }
   ],
   "source": [
    "nunu_df.columns"
   ]
  },
  {
   "cell_type": "code",
   "execution_count": 10,
   "metadata": {
    "application/vnd.databricks.v1+cell": {
     "cellMetadata": {
      "byteLimit": 2048000,
      "rowLimit": 10000
     },
     "inputWidgets": {},
     "nuid": "0a15afe3-18e5-4c09-9aee-ad97527742b6",
     "showTitle": false,
     "title": ""
    }
   },
   "outputs": [],
   "source": [
    "author_r = nunu_df[['author','name']].copy().drop_duplicates().reset_index(drop=True)\n",
    "author_r = author_r.reset_index().rename(columns={'index':'author_id'})"
   ]
  },
  {
   "cell_type": "code",
   "execution_count": 11,
   "metadata": {
    "application/vnd.databricks.v1+cell": {
     "cellMetadata": {
      "byteLimit": 2048000,
      "rowLimit": 10000
     },
     "inputWidgets": {},
     "nuid": "e0724b71-704b-4974-88ed-61363a1ce8b0",
     "showTitle": false,
     "title": ""
    }
   },
   "outputs": [
    {
     "data": {
      "text/html": [
       "<div>\n",
       "<style scoped>\n",
       "    .dataframe tbody tr th:only-of-type {\n",
       "        vertical-align: middle;\n",
       "    }\n",
       "\n",
       "    .dataframe tbody tr th {\n",
       "        vertical-align: top;\n",
       "    }\n",
       "\n",
       "    .dataframe thead th {\n",
       "        text-align: right;\n",
       "    }\n",
       "</style>\n",
       "<table border=\"1\" class=\"dataframe\">\n",
       "  <thead>\n",
       "    <tr style=\"text-align: right;\">\n",
       "      <th></th>\n",
       "      <th>author_id</th>\n",
       "      <th>author</th>\n",
       "      <th>name</th>\n",
       "    </tr>\n",
       "  </thead>\n",
       "  <tbody>\n",
       "    <tr>\n",
       "      <th>0</th>\n",
       "      <td>0</td>\n",
       "      <td>Archie Hunter</td>\n",
       "      <td>Yahoo Entertainment</td>\n",
       "    </tr>\n",
       "    <tr>\n",
       "      <th>1</th>\n",
       "      <td>1</td>\n",
       "      <td>mfox@businessinsider.com (Matthew Fox)</td>\n",
       "      <td>Business Insider</td>\n",
       "    </tr>\n",
       "    <tr>\n",
       "      <th>2</th>\n",
       "      <td>2</td>\n",
       "      <td>fdemott@insider.com (Filip De Mott)</td>\n",
       "      <td>Business Insider</td>\n",
       "    </tr>\n",
       "    <tr>\n",
       "      <th>3</th>\n",
       "      <td>3</td>\n",
       "      <td>Calculated Risk</td>\n",
       "      <td>Blogger.com</td>\n",
       "    </tr>\n",
       "    <tr>\n",
       "      <th>4</th>\n",
       "      <td>4</td>\n",
       "      <td>Zacks Equity Research</td>\n",
       "      <td>Yahoo Entertainment</td>\n",
       "    </tr>\n",
       "  </tbody>\n",
       "</table>\n",
       "</div>"
      ],
      "text/plain": [
       "   author_id                                  author                 name\n",
       "0          0                           Archie Hunter  Yahoo Entertainment\n",
       "1          1  mfox@businessinsider.com (Matthew Fox)     Business Insider\n",
       "2          2     fdemott@insider.com (Filip De Mott)     Business Insider\n",
       "3          3                         Calculated Risk          Blogger.com\n",
       "4          4                   Zacks Equity Research  Yahoo Entertainment"
      ]
     },
     "execution_count": 11,
     "metadata": {},
     "output_type": "execute_result"
    }
   ],
   "source": [
    "author_r.head(5)"
   ]
  },
  {
   "cell_type": "code",
   "execution_count": 13,
   "metadata": {
    "application/vnd.databricks.v1+cell": {
     "cellMetadata": {
      "byteLimit": 2048000,
      "rowLimit": 10000
     },
     "inputWidgets": {},
     "nuid": "6a58287d-c5d0-4f98-893f-4bc6a854cc38",
     "showTitle": false,
     "title": ""
    }
   },
   "outputs": [],
   "source": [
    "source_r = nunu_df[['url', 'urlToImage']].copy().drop_duplicates()\n",
    "source_r = source_r.reset_index().rename(columns={'index':'source_id'})"
   ]
  },
  {
   "cell_type": "code",
   "execution_count": 14,
   "metadata": {
    "application/vnd.databricks.v1+cell": {
     "cellMetadata": {
      "byteLimit": 2048000,
      "rowLimit": 10000
     },
     "inputWidgets": {},
     "nuid": "0984ad4d-fd9e-42fa-9284-2599cc0d99a6",
     "showTitle": false,
     "title": ""
    }
   },
   "outputs": [
    {
     "data": {
      "text/html": [
       "<div>\n",
       "<style scoped>\n",
       "    .dataframe tbody tr th:only-of-type {\n",
       "        vertical-align: middle;\n",
       "    }\n",
       "\n",
       "    .dataframe tbody tr th {\n",
       "        vertical-align: top;\n",
       "    }\n",
       "\n",
       "    .dataframe thead th {\n",
       "        text-align: right;\n",
       "    }\n",
       "</style>\n",
       "<table border=\"1\" class=\"dataframe\">\n",
       "  <thead>\n",
       "    <tr style=\"text-align: right;\">\n",
       "      <th></th>\n",
       "      <th>source_id</th>\n",
       "      <th>url</th>\n",
       "      <th>urlToImage</th>\n",
       "    </tr>\n",
       "  </thead>\n",
       "  <tbody>\n",
       "    <tr>\n",
       "      <th>0</th>\n",
       "      <td>0</td>\n",
       "      <td>https://finance.yahoo.com/news/rough-patch-tra...</td>\n",
       "      <td>https://s.yimg.com/ny/api/res/1.2/logpAHtvT.V5...</td>\n",
       "    </tr>\n",
       "    <tr>\n",
       "      <th>1</th>\n",
       "      <td>1</td>\n",
       "      <td>https://markets.businessinsider.com/news/stock...</td>\n",
       "      <td>https://i.insider.com/669580569caa6ed01e01c687...</td>\n",
       "    </tr>\n",
       "    <tr>\n",
       "      <th>2</th>\n",
       "      <td>2</td>\n",
       "      <td>https://markets.businessinsider.com/news/stock...</td>\n",
       "      <td>https://i.insider.com/6687f1d71f0c1cd6d731bbbf...</td>\n",
       "    </tr>\n",
       "    <tr>\n",
       "      <th>3</th>\n",
       "      <td>3</td>\n",
       "      <td>https://markets.businessinsider.com/news/stock...</td>\n",
       "      <td>https://i.insider.com/669676e45439fb59cebdb3ea...</td>\n",
       "    </tr>\n",
       "    <tr>\n",
       "      <th>4</th>\n",
       "      <td>4</td>\n",
       "      <td>https://www.blogger.com/comment.g?blogID=10004...</td>\n",
       "      <td>None</td>\n",
       "    </tr>\n",
       "  </tbody>\n",
       "</table>\n",
       "</div>"
      ],
      "text/plain": [
       "   source_id                                                url  \\\n",
       "0          0  https://finance.yahoo.com/news/rough-patch-tra...   \n",
       "1          1  https://markets.businessinsider.com/news/stock...   \n",
       "2          2  https://markets.businessinsider.com/news/stock...   \n",
       "3          3  https://markets.businessinsider.com/news/stock...   \n",
       "4          4  https://www.blogger.com/comment.g?blogID=10004...   \n",
       "\n",
       "                                          urlToImage  \n",
       "0  https://s.yimg.com/ny/api/res/1.2/logpAHtvT.V5...  \n",
       "1  https://i.insider.com/669580569caa6ed01e01c687...  \n",
       "2  https://i.insider.com/6687f1d71f0c1cd6d731bbbf...  \n",
       "3  https://i.insider.com/669676e45439fb59cebdb3ea...  \n",
       "4                                               None  "
      ]
     },
     "execution_count": 14,
     "metadata": {},
     "output_type": "execute_result"
    }
   ],
   "source": [
    "source_r.head(5)"
   ]
  },
  {
   "cell_type": "code",
   "execution_count": 15,
   "metadata": {
    "application/vnd.databricks.v1+cell": {
     "cellMetadata": {
      "byteLimit": 2048000,
      "rowLimit": 10000
     },
     "inputWidgets": {},
     "nuid": "000f14ff-be87-4a25-a8c0-657ac015af37",
     "showTitle": false,
     "title": ""
    }
   },
   "outputs": [
    {
     "data": {
      "text/html": [
       "<div>\n",
       "<style scoped>\n",
       "    .dataframe tbody tr th:only-of-type {\n",
       "        vertical-align: middle;\n",
       "    }\n",
       "\n",
       "    .dataframe tbody tr th {\n",
       "        vertical-align: top;\n",
       "    }\n",
       "\n",
       "    .dataframe thead th {\n",
       "        text-align: right;\n",
       "    }\n",
       "</style>\n",
       "<table border=\"1\" class=\"dataframe\">\n",
       "  <thead>\n",
       "    <tr style=\"text-align: right;\">\n",
       "      <th></th>\n",
       "      <th>article_id</th>\n",
       "      <th>author_id</th>\n",
       "      <th>source_id</th>\n",
       "      <th>id</th>\n",
       "      <th>title</th>\n",
       "      <th>description</th>\n",
       "      <th>publishedAt</th>\n",
       "      <th>content</th>\n",
       "    </tr>\n",
       "  </thead>\n",
       "  <tbody>\n",
       "    <tr>\n",
       "      <th>0</th>\n",
       "      <td>0</td>\n",
       "      <td>0</td>\n",
       "      <td>0</td>\n",
       "      <td>None</td>\n",
       "      <td>After Rough Patch, Trader Engelhart Bets Big o...</td>\n",
       "      <td>(Bloomberg) -- The last time Engelhart Commodi...</td>\n",
       "      <td>2024-07-04T11:57:36Z</td>\n",
       "      <td>(Bloomberg) -- The last time Engelhart Commodi...</td>\n",
       "    </tr>\n",
       "    <tr>\n",
       "      <th>1</th>\n",
       "      <td>1</td>\n",
       "      <td>1</td>\n",
       "      <td>1</td>\n",
       "      <td>business-insider</td>\n",
       "      <td>Stock market today: Dow closes at a record as ...</td>\n",
       "      <td>Investors betting on a second Trump presidency...</td>\n",
       "      <td>2024-07-15T20:09:18Z</td>\n",
       "      <td>US stocks hit new all-time highs on Monday, wi...</td>\n",
       "    </tr>\n",
       "    <tr>\n",
       "      <th>2</th>\n",
       "      <td>2</td>\n",
       "      <td>1</td>\n",
       "      <td>2</td>\n",
       "      <td>business-insider</td>\n",
       "      <td>Stock market today: Indexes test record highs ...</td>\n",
       "      <td>The June jobs \"should have Fed officials troub...</td>\n",
       "      <td>2024-07-05T13:39:38Z</td>\n",
       "      <td>US stocks tested record highs on Friday after ...</td>\n",
       "    </tr>\n",
       "  </tbody>\n",
       "</table>\n",
       "</div>"
      ],
      "text/plain": [
       "   article_id  author_id  source_id                id  \\\n",
       "0           0          0          0              None   \n",
       "1           1          1          1  business-insider   \n",
       "2           2          1          2  business-insider   \n",
       "\n",
       "                                               title  \\\n",
       "0  After Rough Patch, Trader Engelhart Bets Big o...   \n",
       "1  Stock market today: Dow closes at a record as ...   \n",
       "2  Stock market today: Indexes test record highs ...   \n",
       "\n",
       "                                         description           publishedAt  \\\n",
       "0  (Bloomberg) -- The last time Engelhart Commodi...  2024-07-04T11:57:36Z   \n",
       "1  Investors betting on a second Trump presidency...  2024-07-15T20:09:18Z   \n",
       "2  The June jobs \"should have Fed officials troub...  2024-07-05T13:39:38Z   \n",
       "\n",
       "                                             content  \n",
       "0  (Bloomberg) -- The last time Engelhart Commodi...  \n",
       "1  US stocks hit new all-time highs on Monday, wi...  \n",
       "2  US stocks tested record highs on Friday after ...  "
      ]
     },
     "execution_count": 15,
     "metadata": {},
     "output_type": "execute_result"
    }
   ],
   "source": [
    "article_r =nunu_df.merge(author_r, on=['author','name'], how='left') \\\n",
    "                .merge(source_r, on=['url','urlToImage'], how='left')\n",
    "article_r=article_r.reset_index().rename(columns={'index':'article_id'})\n",
    "article_r = article_r[['article_id','author_id','source_id','id', 'title', 'description','publishedAt', 'content']]\n",
    "\n",
    "article_r.head(3)            "
   ]
  },
  {
   "cell_type": "markdown",
   "metadata": {
    "application/vnd.databricks.v1+cell": {
     "cellMetadata": {
      "byteLimit": 2048000,
      "rowLimit": 10000
     },
     "inputWidgets": {},
     "nuid": "ee3ec983-b11c-4157-a242-6bd5e5b3ff0e",
     "showTitle": false,
     "title": ""
    }
   },
   "source": [
    "### Transformation Layer"
   ]
  },
  {
   "cell_type": "code",
   "execution_count": 16,
   "metadata": {
    "application/vnd.databricks.v1+cell": {
     "cellMetadata": {
      "byteLimit": 2048000,
      "rowLimit": 10000
     },
     "inputWidgets": {},
     "nuid": "bbe200c1-aa05-4374-aa1f-56a3f0304eeb",
     "showTitle": false,
     "title": ""
    }
   },
   "outputs": [
    {
     "name": "stdout",
     "output_type": "stream",
     "text": [
      "<class 'pandas.core.frame.DataFrame'>\n",
      "RangeIndex: 260 entries, 0 to 259\n",
      "Data columns (total 3 columns):\n",
      " #   Column     Non-Null Count  Dtype \n",
      "---  ------     --------------  ----- \n",
      " 0   author_id  260 non-null    int64 \n",
      " 1   author     250 non-null    object\n",
      " 2   name       260 non-null    object\n",
      "dtypes: int64(1), object(2)\n",
      "memory usage: 6.2+ KB\n",
      "<class 'pandas.core.frame.DataFrame'>\n",
      "RangeIndex: 391 entries, 0 to 390\n",
      "Data columns (total 3 columns):\n",
      " #   Column      Non-Null Count  Dtype \n",
      "---  ------      --------------  ----- \n",
      " 0   source_id   391 non-null    int64 \n",
      " 1   url         391 non-null    object\n",
      " 2   urlToImage  378 non-null    object\n",
      "dtypes: int64(1), object(2)\n",
      "memory usage: 9.3+ KB\n",
      "<class 'pandas.core.frame.DataFrame'>\n",
      "RangeIndex: 400 entries, 0 to 399\n",
      "Data columns (total 8 columns):\n",
      " #   Column       Non-Null Count  Dtype \n",
      "---  ------       --------------  ----- \n",
      " 0   article_id   400 non-null    int64 \n",
      " 1   author_id    400 non-null    int64 \n",
      " 2   source_id    400 non-null    int64 \n",
      " 3   id           92 non-null     object\n",
      " 4   title        400 non-null    object\n",
      " 5   description  393 non-null    object\n",
      " 6   publishedAt  400 non-null    object\n",
      " 7   content      400 non-null    object\n",
      "dtypes: int64(3), object(5)\n",
      "memory usage: 25.1+ KB\n"
     ]
    }
   ],
   "source": [
    "author_r.info()\n",
    "source_r.info()\n",
    "article_r.info()"
   ]
  },
  {
   "cell_type": "code",
   "execution_count": 17,
   "metadata": {
    "application/vnd.databricks.v1+cell": {
     "cellMetadata": {
      "byteLimit": 2048000,
      "rowLimit": 10000
     },
     "inputWidgets": {},
     "nuid": "0e211e6e-6bdc-49ae-a8b1-57d28f5e9a25",
     "showTitle": false,
     "title": ""
    }
   },
   "outputs": [],
   "source": [
    "author = author_r.fillna('unknown')"
   ]
  },
  {
   "cell_type": "code",
   "execution_count": 18,
   "metadata": {
    "application/vnd.databricks.v1+cell": {
     "cellMetadata": {
      "byteLimit": 2048000,
      "rowLimit": 10000
     },
     "inputWidgets": {},
     "nuid": "74435984-52d8-4fa1-a33e-1e7ac19fff16",
     "showTitle": false,
     "title": ""
    }
   },
   "outputs": [
    {
     "name": "stdout",
     "output_type": "stream",
     "text": [
      "<class 'pandas.core.frame.DataFrame'>\n",
      "RangeIndex: 260 entries, 0 to 259\n",
      "Data columns (total 3 columns):\n",
      " #   Column     Non-Null Count  Dtype \n",
      "---  ------     --------------  ----- \n",
      " 0   author_id  260 non-null    int64 \n",
      " 1   author     260 non-null    object\n",
      " 2   name       260 non-null    object\n",
      "dtypes: int64(1), object(2)\n",
      "memory usage: 6.2+ KB\n"
     ]
    }
   ],
   "source": [
    "author.info()"
   ]
  },
  {
   "cell_type": "code",
   "execution_count": 19,
   "metadata": {
    "application/vnd.databricks.v1+cell": {
     "cellMetadata": {
      "byteLimit": 2048000,
      "rowLimit": 10000
     },
     "inputWidgets": {},
     "nuid": "11628fec-cabf-44a7-bd5b-0575bce53ae5",
     "showTitle": false,
     "title": ""
    }
   },
   "outputs": [],
   "source": [
    "source = source_r.fillna('unknown')"
   ]
  },
  {
   "cell_type": "code",
   "execution_count": 20,
   "metadata": {
    "application/vnd.databricks.v1+cell": {
     "cellMetadata": {
      "byteLimit": 2048000,
      "rowLimit": 10000
     },
     "inputWidgets": {},
     "nuid": "49761f11-7f50-4b75-a8b3-49fa0124f00c",
     "showTitle": false,
     "title": ""
    }
   },
   "outputs": [
    {
     "name": "stdout",
     "output_type": "stream",
     "text": [
      "<class 'pandas.core.frame.DataFrame'>\n",
      "RangeIndex: 391 entries, 0 to 390\n",
      "Data columns (total 3 columns):\n",
      " #   Column      Non-Null Count  Dtype \n",
      "---  ------      --------------  ----- \n",
      " 0   source_id   391 non-null    int64 \n",
      " 1   url         391 non-null    object\n",
      " 2   urlToImage  391 non-null    object\n",
      "dtypes: int64(1), object(2)\n",
      "memory usage: 9.3+ KB\n"
     ]
    }
   ],
   "source": [
    "source.info()"
   ]
  },
  {
   "cell_type": "code",
   "execution_count": 22,
   "metadata": {
    "application/vnd.databricks.v1+cell": {
     "cellMetadata": {
      "byteLimit": 2048000,
      "rowLimit": 10000
     },
     "inputWidgets": {},
     "nuid": "c2ad7c78-1fd6-40ff-a3cd-7a914f00a1d9",
     "showTitle": false,
     "title": ""
    }
   },
   "outputs": [],
   "source": [
    "article = article_r.fillna({\n",
    "    'id':'unknown',\n",
    "    'description':'unknown'})"
   ]
  },
  {
   "cell_type": "code",
   "execution_count": 23,
   "metadata": {
    "application/vnd.databricks.v1+cell": {
     "cellMetadata": {
      "byteLimit": 2048000,
      "rowLimit": 10000
     },
     "inputWidgets": {},
     "nuid": "2a2b4778-9636-4f35-a064-a77f1c1cc0bd",
     "showTitle": false,
     "title": ""
    }
   },
   "outputs": [
    {
     "name": "stdout",
     "output_type": "stream",
     "text": [
      "<class 'pandas.core.frame.DataFrame'>\n",
      "RangeIndex: 400 entries, 0 to 399\n",
      "Data columns (total 8 columns):\n",
      " #   Column       Non-Null Count  Dtype \n",
      "---  ------       --------------  ----- \n",
      " 0   article_id   400 non-null    int64 \n",
      " 1   author_id    400 non-null    int64 \n",
      " 2   source_id    400 non-null    int64 \n",
      " 3   id           400 non-null    object\n",
      " 4   title        400 non-null    object\n",
      " 5   description  400 non-null    object\n",
      " 6   publishedAt  400 non-null    object\n",
      " 7   content      400 non-null    object\n",
      "dtypes: int64(3), object(5)\n",
      "memory usage: 25.1+ KB\n"
     ]
    }
   ],
   "source": [
    "article.info()"
   ]
  },
  {
   "cell_type": "code",
   "execution_count": 24,
   "metadata": {
    "application/vnd.databricks.v1+cell": {
     "cellMetadata": {
      "byteLimit": 2048000,
      "rowLimit": 10000
     },
     "inputWidgets": {},
     "nuid": "1f29f7d7-fb1c-42e9-a414-e003bf268316",
     "showTitle": false,
     "title": ""
    }
   },
   "outputs": [],
   "source": [
    "article['publishedAt'] = pd.to_datetime(article['publishedAt'])"
   ]
  },
  {
   "cell_type": "code",
   "execution_count": 25,
   "metadata": {
    "application/vnd.databricks.v1+cell": {
     "cellMetadata": {
      "byteLimit": 2048000,
      "rowLimit": 10000
     },
     "inputWidgets": {},
     "nuid": "9f0faa5a-f4a7-4acc-8931-34f1558665c2",
     "showTitle": false,
     "title": ""
    }
   },
   "outputs": [
    {
     "name": "stdout",
     "output_type": "stream",
     "text": [
      "<class 'pandas.core.frame.DataFrame'>\n",
      "RangeIndex: 400 entries, 0 to 399\n",
      "Data columns (total 8 columns):\n",
      " #   Column       Non-Null Count  Dtype              \n",
      "---  ------       --------------  -----              \n",
      " 0   article_id   400 non-null    int64              \n",
      " 1   author_id    400 non-null    int64              \n",
      " 2   source_id    400 non-null    int64              \n",
      " 3   id           400 non-null    object             \n",
      " 4   title        400 non-null    object             \n",
      " 5   description  400 non-null    object             \n",
      " 6   publishedAt  400 non-null    datetime64[ns, UTC]\n",
      " 7   content      400 non-null    object             \n",
      "dtypes: datetime64[ns, UTC](1), int64(3), object(4)\n",
      "memory usage: 25.1+ KB\n"
     ]
    }
   ],
   "source": [
    "article.info()"
   ]
  },
  {
   "cell_type": "code",
   "execution_count": null,
   "metadata": {
    "application/vnd.databricks.v1+cell": {
     "cellMetadata": {
      "byteLimit": 2048000,
      "rowLimit": 10000
     },
     "inputWidgets": {},
     "nuid": "22ebf4be-4968-4c68-a710-794be2861f92",
     "showTitle": false,
     "title": ""
    }
   },
   "outputs": [],
   "source": [
    "# Create the directory\n",
    "dbutils.fs.mkdirs(\"/dbfs/dataset/rawdata\")\n"
   ]
  },
  {
   "cell_type": "code",
   "execution_count": null,
   "metadata": {
    "application/vnd.databricks.v1+cell": {
     "cellMetadata": {
      "byteLimit": 2048000,
      "rowLimit": 10000
     },
     "inputWidgets": {},
     "nuid": "483aef67-6b8c-48e9-aace-8a6334669df4",
     "showTitle": false,
     "title": ""
    }
   },
   "outputs": [
    {
     "name": "stdout",
     "output_type": "stream",
     "text": [
      "data written to csv correctly\n"
     ]
    }
   ],
   "source": [
    "## writing dta to csv\n",
    "author.to_csv('/Workspace/Users/ihekakelechi@outlook.com/dataset/transformeddata/author.csv', mode='w', index=False)\n",
    "source.to_csv('/Workspace/Users/ihekakelechi@outlook.com/dataset/transformeddata/source.csv', mode='w', index=False)\n",
    "article.to_csv('/Workspace/Users/ihekakelechi@outlook.com/dataset/transformeddata/article.csv', mode='w', index=False)\n",
    "print('data written to csv correctly')"
   ]
  },
  {
   "cell_type": "code",
   "execution_count": null,
   "metadata": {
    "application/vnd.databricks.v1+cell": {
     "cellMetadata": {
      "byteLimit": 2048000,
      "rowLimit": 10000
     },
     "inputWidgets": {},
     "nuid": "b38ad976-3584-4936-96a6-547533aca697",
     "showTitle": false,
     "title": ""
    }
   },
   "outputs": [
    {
     "name": "stdout",
     "output_type": "stream",
     "text": [
      "data written to csv correctly\n"
     ]
    }
   ],
   "source": [
    "author_r.to_csv('/Workspace/Users/ihekakelechi@outlook.com/dataset/rawdata/author.csv', mode='w', index=False)\n",
    "source_r.to_csv('/Workspace/Users/ihekakelechi@outlook.com/dataset/rawdata/source.csv', mode='w', index=False)\n",
    "article_r.to_csv('/Workspace/Users/ihekakelechi@outlook.com/dataset/rawdata/article.csv', mode='w', index=False)\n",
    "print('data written to csv correctly')"
   ]
  },
  {
   "cell_type": "markdown",
   "metadata": {
    "application/vnd.databricks.v1+cell": {
     "cellMetadata": {
      "byteLimit": 2048000,
      "rowLimit": 10000
     },
     "inputWidgets": {},
     "nuid": "c9acc176-6578-4593-894d-30b7c0f33188",
     "showTitle": false,
     "title": ""
    }
   },
   "source": [
    "### Loading Layer"
   ]
  },
  {
   "cell_type": "code",
   "execution_count": null,
   "metadata": {
    "application/vnd.databricks.v1+cell": {
     "cellMetadata": {
      "byteLimit": 2048000,
      "rowLimit": 10000
     },
     "inputWidgets": {},
     "nuid": "34b6b286-4b0f-4ec5-8b28-34c7955e1365",
     "showTitle": false,
     "title": ""
    }
   },
   "outputs": [],
   "source": [
    "## setup connection \n",
    "# Azure Blob Storage connection string\n",
    "connect_str = '**************************'\n",
    "container_name = 'nunucontainer'\n",
    "blob_service_client = BlobServiceClient.from_connection_string(connect_str)\n",
    "container_client = blob_service_client.get_container_client(container_name)\n"
   ]
  },
  {
   "cell_type": "code",
   "execution_count": null,
   "metadata": {
    "application/vnd.databricks.v1+cell": {
     "cellMetadata": {
      "byteLimit": 2048000,
      "rowLimit": 10000
     },
     "inputWidgets": {},
     "nuid": "928f41c4-e061-4547-ae79-2ad8cbcd1461",
     "showTitle": false,
     "title": ""
    }
   },
   "outputs": [],
   "source": [
    "def upload_df_to_blob_as_parquet(df, container_client, blob_name):\n",
    "    buffer = io.BytesIO()\n",
    "    df.to_parquet(buffer, index=False)\n",
    "    buffer.seek(0)\n",
    "    blob_client = container_client.get_blob_client(blob_name)\n",
    "    blob_client.upload_blob(buffer, blob_type=\"BlockBlob\", overwrite=True)\n",
    "    print(f'{blob_name} uploaded to Blob Storage successfully')"
   ]
  },
  {
   "cell_type": "code",
   "execution_count": null,
   "metadata": {
    "application/vnd.databricks.v1+cell": {
     "cellMetadata": {
      "byteLimit": 2048000,
      "rowLimit": 10000
     },
     "inputWidgets": {},
     "nuid": "60f28feb-7803-4ffe-bcd4-58e9988352b6",
     "showTitle": false,
     "title": ""
    }
   },
   "outputs": [
    {
     "name": "stdout",
     "output_type": "stream",
     "text": [
      "rawdata/author.parquet uploaded to Blob Storage successfully\n",
      "rawdata/source.parquet uploaded to Blob Storage successfully\n",
      "rawdata/article.parquet uploaded to Blob Storage successfully\n"
     ]
    }
   ],
   "source": [
    "upload_df_to_blob_as_parquet(author_r, container_client, 'rawdata/author.parquet')\n",
    "upload_df_to_blob_as_parquet(source_r, container_client, 'rawdata/source.parquet')\n",
    "upload_df_to_blob_as_parquet(article_r, container_client, 'rawdata/article.parquet')"
   ]
  },
  {
   "cell_type": "code",
   "execution_count": null,
   "metadata": {
    "application/vnd.databricks.v1+cell": {
     "cellMetadata": {
      "byteLimit": 2048000,
      "rowLimit": 10000
     },
     "inputWidgets": {},
     "nuid": "48c77043-cf0b-4737-8a99-6e9dca545eb1",
     "showTitle": false,
     "title": ""
    }
   },
   "outputs": [
    {
     "name": "stdout",
     "output_type": "stream",
     "text": [
      "transformeddata/author.parquet uploaded to Blob Storage successfully\n",
      "transformeddata/source.parquet uploaded to Blob Storage successfully\n",
      "transformeddata/article.parquet uploaded to Blob Storage successfully\n"
     ]
    }
   ],
   "source": [
    "upload_df_to_blob_as_parquet(author, container_client, 'transformeddata/author.parquet')\n",
    "upload_df_to_blob_as_parquet(source, container_client, 'transformeddata/source.parquet')\n",
    "upload_df_to_blob_as_parquet(article, container_client, 'transformeddata/article.parquet')"
   ]
  },
  {
   "cell_type": "code",
   "execution_count": null,
   "metadata": {
    "application/vnd.databricks.v1+cell": {
     "cellMetadata": {},
     "inputWidgets": {},
     "nuid": "425e2b55-de04-47a1-9d7e-f533bdd423bb",
     "showTitle": false,
     "title": ""
    }
   },
   "outputs": [],
   "source": []
  }
 ],
 "metadata": {
  "application/vnd.databricks.v1+notebook": {
   "dashboards": [],
   "environmentMetadata": null,
   "language": "python",
   "notebookMetadata": {
    "mostRecentlyExecutedCommandWithImplicitDF": {
     "commandId": 259574078773991,
     "dataframes": [
      "_sqldf"
     ]
    },
    "pythonIndentUnit": 4
   },
   "notebookName": "nunu_energy_etl_script",
   "widgets": {}
  },
  "kernelspec": {
   "display_name": "Python 3",
   "language": "python",
   "name": "python3"
  },
  "language_info": {
   "codemirror_mode": {
    "name": "ipython",
    "version": 3
   },
   "file_extension": ".py",
   "mimetype": "text/x-python",
   "name": "python",
   "nbconvert_exporter": "python",
   "pygments_lexer": "ipython3",
   "version": "3.12.2"
  }
 },
 "nbformat": 4,
 "nbformat_minor": 0
}
